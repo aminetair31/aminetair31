{
 "cells": [
  {
   "cell_type": "code",
   "execution_count": null,
   "id": "aba4d67e",
   "metadata": {},
   "outputs": [],
   "source": [
    "import numpy as np\n",
    "\n",
    "# Matrice de distance entre les clients et les dépôts\n",
    "distances = np.array([[0, 5, 10, 2, 8, 6, 7, 3, 9, 4],\n",
    "                      [5, 0, 3, 7, 4, 9, 1, 6, 2, 8],\n",
    "                      [10, 3, 0, 4, 2, 5, 8, 7, 9, 1],\n",
    "                      [2, 7, 4, 0, 6, 8, 5, 9, 3, 1],\n",
    "                      [8, 4, 2, 6, 0, 3, 9, 5, 1, 7],\n",
    "                      [6, 9, 5, 8, 3, 0, 2, 7, 4, 1],\n",
    "                      [7, 1, 8, 5, 9, 2, 0, 3, 6, 4],\n",
    "                      [3, 6, 7, 9, 5, 7, 3, 0, 8, 1],\n",
    "                      [9, 2, 9, 3, 1, 4, 6, 8, 0, 5],\n",
    "                      [4, 8, 1, 1, 7, 1, 4, 1, 5, 0]])\n",
    "\n",
    "# Nombre de clients et de dépôts\n",
    "num_depots = 3\n",
    "num_customers = distances.shape[0]-num_depots\n",
    "\n",
    "\n",
    "# Fonction pour trouver le client le plus proche\n",
    "def find_nearest_customer(current_customer, visited_customers):\n",
    "    remaining_customers = np.setdiff1d(range(num_customers), visited_customers)\n",
    "    distances_to_remaining_customers = distances[current_customer, remaining_customers]\n",
    "    nearest_customer = np.argmin(distances_to_remaining_customers)\n",
    "    return remaining_customers[nearest_customer]\n",
    "\n",
    "# Fonction pour résoudre le VRP avec la méthode NN\n",
    "def solve_vrp_nn(start_depot):\n",
    "    visited_customers = []\n",
    "    current_customer = start_depot\n",
    "    route = [current_customer]\n",
    "\n",
    "    while len(visited_customers) < num_customers:\n",
    "        nearest_customer = find_nearest_customer(current_customer, visited_customers)\n",
    "        visited_customers.append(nearest_customer)\n",
    "        route.append(nearest_customer)\n",
    "        current_customer = nearest_customer\n",
    "\n",
    "    route.append(start_depot)\n",
    "    \n",
    "    return route\n",
    "\n",
    "# Résolution du VRP avec la méthode NN à partir de chaque dépôt\n",
    "for i in range(num_depots):\n",
    "    start_depot = num_customers + i\n",
    "    route = solve_vrp_nn(start_depot)\n",
    "    print(f\"Route starting from depot {start_depot}: {route}\")\n",
    "    \n"
   ]
  }
 ],
 "metadata": {
  "kernelspec": {
   "display_name": "Python 3 (ipykernel)",
   "language": "python",
   "name": "python3"
  },
  "language_info": {
   "codemirror_mode": {
    "name": "ipython",
    "version": 3
   },
   "file_extension": ".py",
   "mimetype": "text/x-python",
   "name": "python",
   "nbconvert_exporter": "python",
   "pygments_lexer": "ipython3",
   "version": "3.9.12"
  }
 },
 "nbformat": 4,
 "nbformat_minor": 5
}
